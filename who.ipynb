{
  "nbformat": 4,
  "nbformat_minor": 0,
  "metadata": {
    "colab": {
      "provenance": [],
      "toc_visible": true,
      "authorship_tag": "ABX9TyPnLa33mmLhz0FRx08qUOvT",
      "include_colab_link": true
    },
    "kernelspec": {
      "name": "python3",
      "display_name": "Python 3"
    },
    "language_info": {
      "name": "python"
    }
  },
  "cells": [
    {
      "cell_type": "markdown",
      "metadata": {
        "id": "view-in-github",
        "colab_type": "text"
      },
      "source": [
        "<a href=\"https://colab.research.google.com/github/Intina47/DEEP_LEARNING/blob/main/who.ipynb\" target=\"_parent\"><img src=\"https://colab.research.google.com/assets/colab-badge.svg\" alt=\"Open In Colab\"/></a>"
      ]
    },
    {
      "cell_type": "code",
      "execution_count": 20,
      "metadata": {
        "id": "fpBtf0uks2Tt"
      },
      "outputs": [],
      "source": [
        "import pandas as pd\n",
        "import tensorflow as tf\n",
        "import io\n",
        "from sklearn.preprocessing import OneHotEncoder"
      ]
    },
    {
      "cell_type": "markdown",
      "source": [
        "DATA PREPARATION"
      ],
      "metadata": {
        "id": "gGCBm_wAZRef"
      }
    },
    {
      "cell_type": "code",
      "source": [
        "# Load the dataset from a file\n",
        "file_path = 'Common_Surnames_Census_2000.csv'\n",
        "df = pd.read_csv(file_path, delimiter=',')\n",
        "\n",
        "# Extract the names column\n",
        "names = df['name'].tolist()\n",
        "\n",
        "# Example: Print the extracted names\n",
        "print(names[:6])"
      ],
      "metadata": {
        "colab": {
          "base_uri": "https://localhost:8080/"
        },
        "id": "_zTvJJ-Y203B",
        "outputId": "739dd2e7-e492-4b87-da8e-dfb29fc04944"
      },
      "execution_count": 28,
      "outputs": [
        {
          "output_type": "stream",
          "name": "stdout",
          "text": [
            "['SMITH', 'JOHNSON', 'WILLIAMS', 'BROWN', 'JONES', 'MILLER']\n"
          ]
        }
      ]
    },
    {
      "cell_type": "markdown",
      "source": [
        "DATA ENCODING"
      ],
      "metadata": {
        "id": "dSNsFFDxZMgU"
      }
    },
    {
      "cell_type": "code",
      "source": [
        "#one-hot encoding on the names\n",
        "encoder = OneHotEncoder(sparse_output=False)\n",
        "names_encoded = encoder.fit_transform(pd.DataFrame(names))\n",
        "print(names_encoded.shape)"
      ],
      "metadata": {
        "colab": {
          "base_uri": "https://localhost:8080/"
        },
        "id": "DVhx5rAXZaRD",
        "outputId": "56b6a56d-718f-4433-9a1c-4e22584edfd2"
      },
      "execution_count": 27,
      "outputs": [
        {
          "output_type": "stream",
          "name": "stdout",
          "text": [
            "(151671, 151671)\n"
          ]
        }
      ]
    }
  ]
}